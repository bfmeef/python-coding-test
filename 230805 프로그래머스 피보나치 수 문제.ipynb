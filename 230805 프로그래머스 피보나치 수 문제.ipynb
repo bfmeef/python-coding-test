{
 "cells": [
  {
   "cell_type": "markdown",
   "metadata": {},
   "source": [
    "문제 출처 : https://school.programmers.co.kr/learn/courses/30/lessons/12945"
   ]
  },
  {
   "cell_type": "code",
   "execution_count": null,
   "metadata": {},
   "outputs": [],
   "source": [
    "def fibonacci(num):\n",
    "    if num == 0:\n",
    "        return 0\n",
    "    elif num == 1 or num == 2:\n",
    "        return 1\n",
    "    \n",
    "    return fibonacci(num-1) + fibonacci(num-2)\n",
    "\n",
    "def solution(n):\n",
    "    return fibonacci(n) % 1234567"
   ]
  },
  {
   "cell_type": "markdown",
   "metadata": {},
   "source": [
    "첫 번째 시도는 재귀함수로 풀어보았는데 런타임 에러 및 시간 초과가 발생하였다.\n",
    "\n",
    "찾아보니 재귀 함수가 호출되면서 처리 시간이 크게 증가하는 문제점이 있고, 이를 해결하기 위해서는 ``메모이제이션``이라는 방법이 있다고 한다.\n",
    "\n",
    "``메모이제이션``이란 **자꾸 반복되지만 결과값은 변하지 않는 작은 문제들의 결과값을 저장하는 것**을 의미한다.  \n",
    "함수 바깥에 메모이제이션을 위한 딕셔너리를 미리 선언해두고 그 값을 호출하는 방식이다."
   ]
  },
  {
   "cell_type": "code",
   "execution_count": null,
   "metadata": {},
   "outputs": [],
   "source": [
    "memo = {0:0, 1:1}\n",
    "\n",
    "def fibonacci(num):\n",
    "    if num in memo:\n",
    "        return memo[num]\n",
    "    \n",
    "    memo[num] = fibonacci(num-1) + fibonacci(num-2)\n",
    "    return memo[num]\n",
    "\n",
    "def solution(n):\n",
    "    return fibonacci(n) % 1234567"
   ]
  },
  {
   "cell_type": "markdown",
   "metadata": {},
   "source": [
    "메모이제이션을 적용해보았다. 미리 0과 1을 저장해둘 수 있다.\n",
    "\n",
    "아까보다는 정확성 점수가 많이 향상되었으나, 여전히 ``런타임 에러``가 발생한다.\n",
    "\n",
    "이유를 찾아보니 n이 커지면 파이썬의 기본 재귀 깊이 제한을 초과하여 런타임 에러가 발생할 수 있다고 한다.\n",
    "\n",
    "그렇다면 재귀 함수 대신 반복문을 사용해주면 좋을 것 같다."
   ]
  },
  {
   "cell_type": "code",
   "execution_count": null,
   "metadata": {},
   "outputs": [],
   "source": [
    "def solution(n):\n",
    "    curr_, next_ = 0, 1\n",
    "    for _ in range(n):\n",
    "        curr_, next_ = next_, curr_ + next_\n",
    "    return curr_ % 1234567"
   ]
  },
  {
   "cell_type": "markdown",
   "metadata": {},
   "source": [
    "반복문으로 풀어보았다. 코드는 블로그를 참고했다.  \n",
    "깔끔하게 n번 반복문 돌면서 변수를 계속 담아준다.  \n",
    "피보나치 수열이라는 것이 앞앞 숫자와 앞 숫자를 서로 더해주는 것이니 0과 1만으로 충분한 것 같다.\n",
    "\n",
    "반복문을 사용했으니 시간은 O(N)일 것으로 추정된다.\n"
   ]
  }
 ],
 "metadata": {
  "language_info": {
   "name": "python"
  },
  "orig_nbformat": 4
 },
 "nbformat": 4,
 "nbformat_minor": 2
}
