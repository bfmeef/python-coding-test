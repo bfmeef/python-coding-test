{
 "cells": [
  {
   "cell_type": "markdown",
   "metadata": {},
   "source": [
    "문제 출처 : https://school.programmers.co.kr/learn/courses/30/lessons/42586\n",
    "\n",
    "이 문제는 큐를 활용하여 선입선출하는 문제다.\n",
    "\n",
    "파이썬에는 queue라는 모듈이 있으나 리스트로도 충분히 해결할 수 있다."
   ]
  },
  {
   "cell_type": "code",
   "execution_count": null,
   "metadata": {},
   "outputs": [],
   "source": [
    "def solution(progresses, speeds):\n",
    "    answer = []\n",
    "    while True:\n",
    "        for idx, value in enumerate(progresses):\n",
    "            progresses[idx] += speeds[idx]\n",
    "            \n",
    "        count = 0\n",
    "        for p in progresses:\n",
    "            if p >= 100:\n",
    "                count += 1\n",
    "            else:\n",
    "                break\n",
    "        \n",
    "        for i in range(count):\n",
    "            progresses.pop(0)\n",
    "        \n",
    "        if count > 0:\n",
    "            answer.append(count)\n",
    "        \n",
    "        if not progresses:\n",
    "            break\n",
    "        \n",
    "    return answer"
   ]
  },
  {
   "cell_type": "markdown",
   "metadata": {},
   "source": [
    "처음에 이렇게 풀었더니 정확성 점수를 27.3점 받았다. 일부 케이스에는 사용할 수 있지만 전체 케이스에는 적합하지 않은 풀이다."
   ]
  },
  {
   "cell_type": "code",
   "execution_count": null,
   "metadata": {},
   "outputs": [],
   "source": [
    "def solution(progresses, speeds):\n",
    "    answer = []\n",
    "    days_to_complete = []\n",
    "    \n",
    "    # 각 작업별 남은 진행도 계산(며칠 걸리는지)\n",
    "    for p, s in zip(progresses, speeds):\n",
    "        days_to_complete.append((100 - p) // s + (1 if (100 - p) % s > 0 else 0))\n",
    "        \n",
    "    while days_to_complete:\n",
    "        count = 1\n",
    "    \n",
    "        # 남은 작업일이 첫 번째 작업일보다 적다면 같이 배포되어야 함\n",
    "        for i in range(1, len(days_to_complete)):\n",
    "            if days_to_complete[i] <= days_to_complete[0]:\n",
    "                count += 1\n",
    "            else:\n",
    "                break\n",
    "                \n",
    "        answer.append(count)\n",
    "        days_to_complete = days_to_complete[count:]\n",
    "        \n",
    "    return answer"
   ]
  },
  {
   "cell_type": "markdown",
   "metadata": {},
   "source": [
    "다른 사람 풀이를 참고하니 우선 ``zip``을 사용하여 같은 인덱스끼리 묶어주었다.\n",
    "\n",
    "``zip``은 [1, 2, 3]과 ['a', 'b', 'c']를 (1, 'a'), (2, 'b'), (3, 'c') 처럼 묶어줄 수 있는 기능인데, 인덱스를 사용할 필요 없이 변수를 바로 사용하면 된다.\n",
    "\n",
    "그리고 나는 반복문을 통해 매일 진행도를 누적시켜 계산하려고 했는데 progresses를 계속 갱신해주어 while문과 for문을 중첩해서 수행한다는 단점이 있다.  \n",
    "반면 이 풀이는 며칠 걸리는지 남은 진행도를 계산하는 방식이라 내가 고안한 방식보다 더 효율적인 것 같다.  \n",
    "시간 복잡도는 내 풀이가 O(T*N) (T는 상수에 가까워 최종적으로는 O(N)에 근사한다고 한다.), 후자 풀이법이 O(N)이다.\n",
    "\n",
    "그리고 days_to_complete를 0번째 인덱스를 제외하고 1번째 인덱스부터 순회하게 하여 가장 먼저 배포되어야 할 첫 번째 값보다 일찍 끝난다면(값이 더 작다면) count를 1 증가시킨다.\n",
    "\n",
    "나는 list의 pop(0)을 통해 앞에서부터 삭제하려고 했었는데, ``days_to_complete = days_to_complete[count:]`` 코드가 훨씬 효율적이고 깔끔한 것 같다.  \n",
    "FIFO를 한다고 해서 pop을 사용할 필요가 없다는 사실을 다시 깨달았다."
   ]
  }
 ],
 "metadata": {
  "language_info": {
   "name": "python"
  },
  "orig_nbformat": 4
 },
 "nbformat": 4,
 "nbformat_minor": 2
}
