{
 "cells": [
  {
   "cell_type": "markdown",
   "metadata": {},
   "source": [
    "문제 출처 : https://school.programmers.co.kr/learn/courses/30/lessons/135808"
   ]
  },
  {
   "cell_type": "code",
   "execution_count": null,
   "metadata": {},
   "outputs": [],
   "source": [
    "def solution(k, m, score):\n",
    "    score.sort(reverse=True)\n",
    "    \n",
    "    array = []\n",
    "    result = 0\n",
    "    for s in score:\n",
    "        array.append(s)\n",
    "        if len(array) == m:\n",
    "            result += min(array) * m\n",
    "            array = []\n",
    "    return result"
   ]
  },
  {
   "cell_type": "markdown",
   "metadata": {},
   "source": [
    "우선 이 문제는 ``그리디 알고리즘``이라고 판단하였고 ``최대 이익``을 극대화하는 것이 목표이므로, 주어진 ``score`` 배열을 내림차순으로 정렬하여 점수가 큰 사과부터 판매할 수 있도록 했다.\n",
    "\n",
    "상자에 담긴 사과의 개수가 m과 같다면, 상자 속 최저 점수를 ``min`` 함수를 통하여 구하고 m을 곱하여 ``result``에 더하도록 했다.\n",
    "\n",
    "그리디 알고리즘은 이제 생각보다 쉬운 것 같다. ^-^)b"
   ]
  }
 ],
 "metadata": {
  "language_info": {
   "name": "python"
  },
  "orig_nbformat": 4
 },
 "nbformat": 4,
 "nbformat_minor": 2
}
