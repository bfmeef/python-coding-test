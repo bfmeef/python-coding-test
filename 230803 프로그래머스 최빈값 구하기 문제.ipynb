{
 "cells": [
  {
   "cell_type": "markdown",
   "metadata": {},
   "source": [
    "문제 출처 : https://school.programmers.co.kr/learn/courses/30/lessons/120812\n",
    "\n",
    "최빈값을 구하는 문제인데, collections 모듈의 Counter를 알게 됐더니 쉽게 풀 수 있었다.\n",
    "\n",
    "Counter로 빈도수 리스트를 구하고 most_common() 메소드를 통해 최빈값을 구했다.  \n",
    "최빈값이 여러 개라면 -1을 반환해야 하므로 조건문을 추가해주었다."
   ]
  },
  {
   "cell_type": "code",
   "execution_count": null,
   "metadata": {},
   "outputs": [],
   "source": [
    "from collections import Counter\n",
    "\n",
    "def solution(array):\n",
    "    common = Counter(array).most_common()\n",
    "    \n",
    "    mode = common[0]\n",
    "    if len(common) > 1:\n",
    "        if mode[1] == common[1][1]:\n",
    "            return -1\n",
    "    return mode[0]"
   ]
  }
 ],
 "metadata": {
  "language_info": {
   "name": "python"
  },
  "orig_nbformat": 4
 },
 "nbformat": 4,
 "nbformat_minor": 2
}
