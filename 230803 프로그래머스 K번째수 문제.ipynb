{
 "cells": [
  {
   "cell_type": "markdown",
   "metadata": {},
   "source": [
    "문제 출처 : https://school.programmers.co.kr/learn/courses/30/lessons/42748\n",
    "\n",
    "이 문제는 파이썬의 ``인덱스``, ``슬라이싱``에 대해 알고 있어야 풀 수 있는 문제이다."
   ]
  },
  {
   "cell_type": "code",
   "execution_count": null,
   "metadata": {},
   "outputs": [],
   "source": [
    "def solution(array, commands):\n",
    "    length = len(commands)\n",
    "    answer = []\n",
    "    \n",
    "    for t in range(length):\n",
    "        i = commands[t][0] - 1\n",
    "        j = commands[t][1]\n",
    "        k = commands[t][2] - 1\n",
    "        \n",
    "        answer.append(sorted(array[i:j])[k])\n",
    "    \n",
    "    return answer"
   ]
  },
  {
   "cell_type": "markdown",
   "metadata": {},
   "source": [
    "우선 처음 풀이한 코드는 이렇다.\n",
    "\n",
    "1. 2차원 배열인 commands의 행 개수 구하기\n",
    "2. commands 행 개수만큼 반복하여 슬라이싱/정렬/k번째 수 구하기\n",
    "\n",
    "인덱스 쪽에서 많이 헷갈린 문제 같다.  \n",
    "문제 설명은 자연수를 기준으로 설명하지만 (1부터 시작) 프로그래밍에서는 0부터 시작하기 때문에 -1을 해줘야 하는데, 슬라이싱을 할 때는 j 이전까지 자르기 때문에 다른 수들처럼 -1을 해주면 안 된다는 주의점이 있다.\n",
    "\n",
    "일단 문제 없이 돌아간다. 풀이하고 다른 사람들 코드를 확인해보았다."
   ]
  },
  {
   "cell_type": "code",
   "execution_count": null,
   "metadata": {},
   "outputs": [],
   "source": [
    "def solution(array, commands):\n",
    "    answer = []\n",
    "    \n",
    "    for command in commands:\n",
    "        i, j, k = command\n",
    "        \n",
    "        answer.append(sorted(array[i-1:j])[k-1])\n",
    "    \n",
    "    return answer"
   ]
  },
  {
   "cell_type": "markdown",
   "metadata": {},
   "source": [
    "길었던 코드를 더 줄일 수 있다는 것에서 많은 깨달음을 얻었다. 아직 파이써닉한 코드에 익숙하지 않은 탓인 것 같다. 오늘 공부했으니까 나중엔 잊지 말아야겠다."
   ]
  },
  {
   "cell_type": "code",
   "execution_count": null,
   "metadata": {},
   "outputs": [],
   "source": [
    "def solution(array, commands):\n",
    "    return list(map(lambda c: sorted(array[c[0]-1 : c[1]])[c[2]-1], commands))"
   ]
  },
  {
   "cell_type": "markdown",
   "metadata": {},
   "source": [
    "lambda를 활용해서 위와 같이 풀이한 코드도 볼 수 있었다.  \n",
    "lambda는 ``lambda 매개변수 : 표현식`` 처럼 쓰면 된다.\n",
    "\n",
    "map 함수는 ``map(함수, 리스트)``로 사용하면 되는데, 리스트의 원소를 하나씩 꺼내 함수를 적용하고 이를 map 객체에 담아주는 역할을 한다. 이를 리스트로 바꿔주고 싶으면 list()로 감싸면 된다.\n",
    "\n",
    "그러면 lambda를 통해 만든 함수를 commands 리스트에 적용할 건데, commands 리스트의 원소를 하나씩 꺼내 lambda를 적용하게 되는 것이다. 위에서 작성한 ``array[i-1]:j])[k-1]``과 ``array[c[0]-1:c[1]])[c[2]-1]``는 같다. 다만 전자는 위에서 ``i, j, k = command``로 미리 따로 변수에 담아주었기 때문에 슬라이싱이 간단한 반면 후자는 그 과정이 없어 슬라이싱이 한눈에 들어오지 않는다는 단점이 있다.\n",
    "\n",
    "한줄 코딩은 언제나 멋있지만 가독성 측면에서는 2번째 코드가 더 좋아보인다고 생각한다. "
   ]
  }
 ],
 "metadata": {
  "language_info": {
   "name": "python"
  },
  "orig_nbformat": 4
 },
 "nbformat": 4,
 "nbformat_minor": 2
}
