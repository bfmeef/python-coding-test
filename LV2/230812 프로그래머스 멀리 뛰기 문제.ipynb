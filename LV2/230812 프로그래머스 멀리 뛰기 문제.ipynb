{
 "cells": [
  {
   "cell_type": "markdown",
   "metadata": {},
   "source": [
    "문제 출처 : https://school.programmers.co.kr/learn/courses/30/lessons/12914\n",
    "\n",
    "이 문제는 [동적 계획법](https://github.com/bfmeef/TIL/blob/main/Algorithm/230812%20%EB%8F%99%EC%A0%81%20%EA%B3%84%ED%9A%8D%EB%B2%95.md)을 활용하여 풀 수 있다."
   ]
  },
  {
   "cell_type": "code",
   "execution_count": null,
   "metadata": {},
   "outputs": [],
   "source": [
    "def solution(n):\n",
    "    dp = [0] * (n + 1)\n",
    "    dp[1] = 1\n",
    "    if n > 1:\n",
    "        dp[2] = 2\n",
    "    \n",
    "    for i in range(3, n + 1):\n",
    "        dp[i] = (dp[i - 1] + dp[i - 2]) \n",
    "        \n",
    "    return dp[n] % 1234567"
   ]
  },
  {
   "cell_type": "markdown",
   "metadata": {},
   "source": [
    "피보나치 수열과 비슷한 느낌으로 1은 1, 2는 2, 3은 1 + 2, 4는 2 + 3 이런 식으로 작은 식을 활용하여 계속 확장해나갈 수 있다. "
   ]
  }
 ],
 "metadata": {
  "language_info": {
   "name": "python"
  },
  "orig_nbformat": 4
 },
 "nbformat": 4,
 "nbformat_minor": 2
}
