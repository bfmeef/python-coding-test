{
 "cells": [
  {
   "cell_type": "markdown",
   "metadata": {},
   "source": [
    "문제 출처 : https://school.programmers.co.kr/learn/courses/30/lessons/12973\n",
    "\n",
    "이 문제는 스택을 활용하여 푸는 문제이다."
   ]
  },
  {
   "cell_type": "code",
   "execution_count": null,
   "metadata": {},
   "outputs": [],
   "source": [
    "def solution(s):\n",
    "    stack = []\n",
    "    for char in s:\n",
    "        if stack and stack[-1] == char:\n",
    "            stack.pop()\n",
    "        else:\n",
    "            stack.append(char)\n",
    "            \n",
    "    if not stack:\n",
    "        return 1\n",
    "    else:\n",
    "        return 0"
   ]
  },
  {
   "cell_type": "markdown",
   "metadata": {},
   "source": [
    "stack[-1]이 현재 값과 같다면 문자가 연속된다는 의미이므로 스택에서 제거한다. 아니라면 스택에 추가한다. 문자열을 모두 순회하고 스택에 값이 남아있다면 성공적으로 수행하지 못한다는 것이므로 0을 리턴하고 값이 남아있지 않다면 1을 리턴한다."
   ]
  }
 ],
 "metadata": {
  "language_info": {
   "name": "python"
  },
  "orig_nbformat": 4
 },
 "nbformat": 4,
 "nbformat_minor": 2
}
