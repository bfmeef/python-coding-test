{
 "cells": [
  {
   "cell_type": "markdown",
   "metadata": {},
   "source": [
    "문제 출처 : https://school.programmers.co.kr/learn/courses/30/lessons/70129"
   ]
  },
  {
   "cell_type": "code",
   "execution_count": null,
   "metadata": {},
   "outputs": [],
   "source": [
    "def solution(s):\n",
    "    answer = [0, 0]  # 이진 변환의 횟수, 제거된 모든 0의 개수\n",
    "    while s != '1':\n",
    "        z_count = s.count('0')\n",
    "        answer[1] += z_count\n",
    "        s = bin(len(s) - z_count)[2:]\n",
    "        answer[0] += 1        \n",
    "        \n",
    "    return answer"
   ]
  },
  {
   "cell_type": "markdown",
   "metadata": {},
   "source": [
    "1. while로 반복문을 돌려 문자열에서 0의 개수를 세서 저장하고 answer[1]에 누적한다.\n",
    "2. x의 모든 0을 제거한 후 길이 c를 구해, c를 2진법으로 바꿔 구한다.\n",
    "3. 횟수를 answer[0]에 누적한다."
   ]
  }
 ],
 "metadata": {
  "language_info": {
   "name": "python"
  },
  "orig_nbformat": 4
 },
 "nbformat": 4,
 "nbformat_minor": 2
}
