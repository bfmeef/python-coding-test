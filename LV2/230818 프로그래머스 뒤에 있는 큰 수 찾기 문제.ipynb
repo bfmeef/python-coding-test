{
 "cells": [
  {
   "cell_type": "markdown",
   "metadata": {},
   "source": [
    "문제 출처 : https://school.programmers.co.kr/learn/courses/30/lessons/154539"
   ]
  },
  {
   "cell_type": "code",
   "execution_count": null,
   "metadata": {},
   "outputs": [],
   "source": [
    "def solution(numbers):\n",
    "    result = [-1] * len(numbers)\n",
    "    \n",
    "    for idx, n in enumerate(numbers):\n",
    "        for next_n in numbers[idx:]:\n",
    "            if n < next_n:\n",
    "                result[idx] = next_n\n",
    "                break\n",
    "        \n",
    "    return result"
   ]
  },
  {
   "cell_type": "markdown",
   "metadata": {},
   "source": [
    "이 문제는 현재 위치의 수와 뒤에 있는 수를 비교하여 가장 가까운 큰 수를 담은 배열을 return하는 문제이다.\n",
    "\n",
    "위와 같이 풀었더니 테스트 9까지만 통과하고 테스트 10부터는 시간 초과로 인해 실패하였다. 아무래도 반복문이 중첩되어 있어서 최악의 경우 시간 복잡도가 O(N^2)가 되기 때문인 것 같다.\n",
    "\n",
    "이를 해결하는 방법은 스택을 활용할 수 있다고 한다."
   ]
  },
  {
   "cell_type": "code",
   "execution_count": null,
   "metadata": {},
   "outputs": [],
   "source": [
    "def solution(numbers):\n",
    "    result = [-1] * len(numbers)\n",
    "    stack = []\n",
    "    \n",
    "    for idx, n in enumerate(numbers):\n",
    "        while stack and n > numbers[stack[-1]]:\n",
    "            result[stack.pop()] = n\n",
    "        stack.append(idx)\n",
    "        \n",
    "    return result"
   ]
  },
  {
   "cell_type": "markdown",
   "metadata": {},
   "source": [
    "이렇게 stack을 활용해서 풀어봤는데 이해가 잘 안 됐다.  \n",
    "일단 stack은 인덱스를 저장하는 리스트다.\n",
    "\n",
    "- `while stack and n > numbers[stack[-1]]`: 스택이 비어있지 않고, 현재 원소 n이 스택의 맨 위 원소보다 큰 경우에 반복한다. 즉, 현재 원소보다 큰 값을 찾을 때까지 스택의 맨 위 원소를 처리한다.\n",
    "- `result[stack.pop()] = n`: 스택의 맨 위 원소의 인덱스를 꺼내서, 해당 인덱스에 대한 결과 배열 result의 값을 현재 원소 n으로 바꾼다. 뒷 큰 수를 찾아서 결과 배열에 저장하는 단계이다.\n",
    "- `stack.append(idx)`: 현재 원소의 인덱스 idx를 스택에 추가한다. 스택에는 현재 원소보다 작은 값들에 대한 인덱스들이 저장되어 있다.\n",
    "\n",
    "스택을 사용하면 시간 복잡도가 O(N)으로 줄어든다."
   ]
  }
 ],
 "metadata": {
  "language_info": {
   "name": "python"
  },
  "orig_nbformat": 4
 },
 "nbformat": 4,
 "nbformat_minor": 2
}
