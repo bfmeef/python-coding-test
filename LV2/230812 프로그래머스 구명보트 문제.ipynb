{
 "cells": [
  {
   "cell_type": "markdown",
   "metadata": {},
   "source": [
    "문제 출처 : https://school.programmers.co.kr/learn/courses/30/lessons/42885\n",
    "\n",
    "이 문제는 그리디 알고리즘으로 푸는 문제이다.\n",
    "\n",
    "구명보트에는 최대 2명씩밖에 태울 수 없으므로, 사람들의 몸무게를 정렬하고 제일 몸무게가 많이 나가는 사람과 적게 나가는 사람을 비교하여 구명보트에 태워 나간다."
   ]
  },
  {
   "cell_type": "code",
   "execution_count": null,
   "metadata": {},
   "outputs": [],
   "source": [
    "def solution(people, limit):\n",
    "    people.sort()\n",
    "    count = 0\n",
    "    \n",
    "    while people:\n",
    "        if people[0] + people[-1] <= limit:\n",
    "            people.pop(0)\n",
    "        if people:\n",
    "            people.pop()\n",
    "        count += 1\n",
    "        \n",
    "    return count"
   ]
  },
  {
   "cell_type": "markdown",
   "metadata": {},
   "source": [
    "처음에는 이렇게 풀었는데 로직은 맞았지만 ``pop()``을 사용할 경우 시간복잡도가 최대 O(N)까지 걸릴 수 있다 하여 효율성 테스트에서 시간 초과가 떴다.\n",
    "\n",
    "알아보니 이진 탐색과 같은 원리로 left와 right를 설정해주는 식으로 풀 수 있었다."
   ]
  },
  {
   "cell_type": "code",
   "execution_count": null,
   "metadata": {},
   "outputs": [],
   "source": [
    "def solution(people, limit):\n",
    "    people.sort()\n",
    "    count = 0\n",
    "    \n",
    "    left = 0\n",
    "    right = len(people) - 1\n",
    "    \n",
    "    while left <= right:\n",
    "        if people[left] + people[right] <= limit:\n",
    "            left += 1\n",
    "        right -= 1\n",
    "        count += 1\n",
    "        \n",
    "    return count"
   ]
  },
  {
   "cell_type": "markdown",
   "metadata": {},
   "source": [
    "left와 right를 설정하여 left가 right보다 작거나 같은 동안 반복문을 돌게 했다.\n",
    "\n",
    "left와 right 위치의 사람들 몸무게를 더해서 limit보다 작으면 몸무게가 적은 사람까지 함께 태워나가고, 그렇지 않을 경우에는 몸무게가 많이 나가는 사람만 태워 나간다.\n",
    "\n",
    "효율성 점수에서도 통과하였다.\n",
    "\n",
    "이진 탐색 알고리즘을 이런 데서도 쓸 수 있다니 뭔가 깨달음을 얻었다."
   ]
  }
 ],
 "metadata": {
  "language_info": {
   "name": "python"
  },
  "orig_nbformat": 4
 },
 "nbformat": 4,
 "nbformat_minor": 2
}
