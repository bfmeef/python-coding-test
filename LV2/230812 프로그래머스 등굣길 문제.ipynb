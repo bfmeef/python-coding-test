{
 "cells": [
  {
   "cell_type": "markdown",
   "metadata": {},
   "source": [
    "문제 출처 : https://school.programmers.co.kr/learn/courses/30/lessons/42898\n",
    "\n",
    "이 문제도 동적계획법으로 푸는 문제이다. 이론은 알겠는데 막상 코딩하려고 하면 왜 이렇게 어려운 건지 잘 모르겠다..ㅠㅠ"
   ]
  },
  {
   "cell_type": "code",
   "execution_count": null,
   "metadata": {},
   "outputs": [],
   "source": [
    "def solution(m, n, puddles):\n",
    "    dp = [[0] * (m + 1) for _ in range(n + 1)]\n",
    "    dp[1][1] = 1\n",
    "    \n",
    "    for i in range(1, n + 1):\n",
    "        for j in range(1, m + 1):\n",
    "            if i == 1 and j == 1:\n",
    "                continue\n",
    "            if [j, i] in puddles:\n",
    "                dp[i][j] = 0\n",
    "            else:\n",
    "                dp[i][j] = (dp[i - 1][j] + dp[i][j - 1]) % 1000000007\n",
    "                \n",
    "    return dp[n][m]"
   ]
  },
  {
   "cell_type": "markdown",
   "metadata": {},
   "source": [
    "우선 이차원배열일 때는 리스트 컴프리헨션으로 이렇게 만들어주면 되고 아래 코드에서는 이중 반복문으로 접근하면 된다."
   ]
  }
 ],
 "metadata": {
  "language_info": {
   "name": "python"
  },
  "orig_nbformat": 4
 },
 "nbformat": 4,
 "nbformat_minor": 2
}
