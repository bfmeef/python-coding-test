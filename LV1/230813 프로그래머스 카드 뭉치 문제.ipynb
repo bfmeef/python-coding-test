{
 "cells": [
  {
   "cell_type": "markdown",
   "metadata": {},
   "source": [
    "문제 출처 : https://school.programmers.co.kr/learn/courses/30/lessons/159994"
   ]
  },
  {
   "cell_type": "code",
   "execution_count": null,
   "metadata": {},
   "outputs": [],
   "source": [
    "def solution(cards1, cards2, goal):\n",
    "    for g in goal:\n",
    "        if cards1 and g == cards1[0]: \n",
    "            cards1.pop(0)\n",
    "        elif cards2 and g == cards2[0]:\n",
    "            cards2.pop(0)\n",
    "        else:\n",
    "            return \"No\"\n",
    "        \n",
    "    return \"Yes\""
   ]
  },
  {
   "cell_type": "markdown",
   "metadata": {},
   "source": [
    "일단 cards를 탐색하는 게 아니라 goal에서 cards에 있는지 역으로 탐색하도록 했다.\n",
    "만약 cards에 값이 있으면서 goal의 첫 번째 단어와 cards의 첫 번째 단어가 일치한다면(맨 앞의 단어들만 가능하므로) cards에서 첫 번째 단어를 pop해주도록 했다.\n",
    "\n",
    "단어의 순서가 중요한 문제이기 때문에 ``선형 탐색``을 해줘야 하지만, 만일 단어의 순서가 중요하지 않다면 set을 활용하여 문제를 해결할 수도 있다."
   ]
  }
 ],
 "metadata": {
  "language_info": {
   "name": "python"
  },
  "orig_nbformat": 4
 },
 "nbformat": 4,
 "nbformat_minor": 2
}
