{
 "cells": [
  {
   "cell_type": "markdown",
   "metadata": {},
   "source": [
    "문제 출처 : https://school.programmers.co.kr/learn/courses/30/lessons/42862#\n",
    "\n",
    "이 문제는 탐욕법(Greedy Algorithm)으로 해결할 수 있는 문제이다."
   ]
  },
  {
   "cell_type": "code",
   "execution_count": null,
   "metadata": {},
   "outputs": [],
   "source": [
    "def solution(n, lost, reserve):\n",
    "    students = [1] * (n + 1)\n",
    "    \n",
    "    for r in reserve:\n",
    "        students[r] = 2\n",
    "        \n",
    "    for l in lost:\n",
    "        students[l] -= 1\n",
    "        \n",
    "    for i in range(1, n + 1):\n",
    "        if students[i] == 0:  # 도난당했을 경우\n",
    "            if i-1 >= 1 and students[i-1] == 2:\n",
    "                students[i-1] = 1\n",
    "                students[i] = 1\n",
    "            elif i+1 <= n and students[i+1] == 2:\n",
    "                students[i+1] = 1\n",
    "                students[i] = 1\n",
    "                \n",
    "    answer = sum(1 for s in students[1:] if s >= 1)\n",
    "    return answer"
   ]
  },
  {
   "cell_type": "markdown",
   "metadata": {},
   "source": [
    "우선 students를 초기화해주고 여벌 체육복이 있는 학생의 경우는 2로 바꿔준다. 여벌 체육복을 가져왔으나 도난을 당할 수 있기 때문에 -1을 적용한다.\n",
    "\n",
    "그리고 1부터 순회하면서 체육복을 도난당해서 0일 경우, 앞과 뒤를 조회하여 체육복을 나눠갖는다. 이때 i-1이나 i+1가 범위를 초과할 수 있으므로 검사해준다.\n",
    "\n",
    "그리고 체육복이 1 이상인 학생들을 모두 더하여 return한다."
   ]
  }
 ],
 "metadata": {
  "language_info": {
   "name": "python"
  },
  "orig_nbformat": 4
 },
 "nbformat": 4,
 "nbformat_minor": 2
}
