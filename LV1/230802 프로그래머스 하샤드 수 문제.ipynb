{
 "cells": [
  {
   "cell_type": "markdown",
   "metadata": {},
   "source": [
    "문제 출처: https://school.programmers.co.kr/learn/courses/30/lessons/12947\n",
    "\n",
    "이 문제는 각 자릿수의 합을 구하는 것이 관건인 문제다.\n",
    "\n",
    "주어지는 숫자는 10, 11, 12 등의 숫자인데, 각 자릿수를 더해주기 위해서는 우선 이를 문자열로 변환해줄 필요가 있다. 변환해준 문자열 '10'에서 각 자릿수를 뽑아 다시 정수형으로 변환한 뒤 이를 더한다.\n",
    "\n",
    "그리고 x가 total로 나뉘는지 여부를 바로 리턴해주었다."
   ]
  },
  {
   "cell_type": "code",
   "execution_count": null,
   "metadata": {
    "vscode": {
     "languageId": "plaintext"
    }
   },
   "outputs": [],
   "source": [
    "def solution(x):\n",
    "    # 각 자릿수 합 구하기\n",
    "    total = sum(int(t) for t in str(x))\n",
    "    \n",
    "    # x를 나눌 수 있는지 확인하기    \n",
    "    return (x % total == 0)"
   ]
  }
 ],
 "metadata": {
  "language_info": {
   "name": "python"
  },
  "orig_nbformat": 4
 },
 "nbformat": 4,
 "nbformat_minor": 2
}
