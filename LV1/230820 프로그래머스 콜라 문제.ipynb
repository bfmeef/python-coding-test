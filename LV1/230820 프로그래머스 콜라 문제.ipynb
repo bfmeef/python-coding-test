{
 "cells": [
  {
   "cell_type": "markdown",
   "metadata": {},
   "source": [
    "문제 출처 : https://school.programmers.co.kr/learn/courses/30/lessons/132267"
   ]
  },
  {
   "cell_type": "code",
   "execution_count": null,
   "metadata": {},
   "outputs": [],
   "source": [
    "def solution(a, b, n):\n",
    "    result = 0\n",
    "    \n",
    "    while n >= a:\n",
    "        result += (n // a) * b\n",
    "        n = (n % a) + (n // a) * b\n",
    "        \n",
    "    return result"
   ]
  },
  {
   "cell_type": "markdown",
   "metadata": {},
   "source": [
    "`result`에 `n을 a로 나눈 몫` X `받을 수 있는 병의 개수 b`를 더해주고, 가지고 있는 병의 개수를 나머지와 돌려받은 병의 개수를 더해 저장한다.\n",
    "\n",
    "가지고 있는 병의 개수 n이 가져다 주어야 하는 병의 개수 a가 크거나 같은 동안 반복해 주었다."
   ]
  }
 ],
 "metadata": {
  "language_info": {
   "name": "python"
  },
  "orig_nbformat": 4
 },
 "nbformat": 4,
 "nbformat_minor": 2
}
