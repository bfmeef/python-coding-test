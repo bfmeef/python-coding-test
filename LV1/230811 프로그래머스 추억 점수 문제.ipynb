{
 "cells": [
  {
   "cell_type": "markdown",
   "metadata": {},
   "source": [
    "문제 출처 : https://school.programmers.co.kr/learn/courses/30/lessons/176963"
   ]
  },
  {
   "cell_type": "code",
   "execution_count": null,
   "metadata": {},
   "outputs": [],
   "source": [
    "def solution(name, yearning, photo):\n",
    "    longing_dict = {}\n",
    "    for n, y in zip(name, yearning):\n",
    "        longing_dict[n] = y\n",
    "        \n",
    "    answer = []\n",
    "    for p in photo:\n",
    "        temp = 0\n",
    "        for member in p:\n",
    "            if member in longing_dict:\n",
    "                temp += longing_dict[member]\n",
    "        \n",
    "        answer.append(temp)\n",
    "        \n",
    "    return answer"
   ]
  },
  {
   "cell_type": "markdown",
   "metadata": {},
   "source": [
    "이 문제는 사람 이름과 점수를 해시 맵(딕셔너리)에 저장하고 이를 꺼내다 쓰면 되는 간단한 문제이다.\n",
    "\n",
    "전에는 len으로 인덱스를 구해 같은 인덱스의 값을 꺼냈었는데 배열의 길이가 같으면 ``zip``으로 묶을 수 있다는 걸 배운 후로 한번 적용해보았다.\n",
    "\n",
    "```\n",
    "for n, y in zip(name, yearning):\n",
    "        longing_dict[n] = y\n",
    "```\n",
    "\n",
    "이후 for문을 돌면서 member가 사전에 있다면 점수를 더해주는 식으로 작성하였다. 시간 복잡도는 O(N * M)이다."
   ]
  },
  {
   "cell_type": "code",
   "execution_count": null,
   "metadata": {},
   "outputs": [],
   "source": [
    "def solution(name, yearning, photo):\n",
    "    longing_dict = dict(zip(name, yearning))\n",
    "        \n",
    "    answer = [sum(longing_dict.get(member, 0) for member in p) for p in photo]\n",
    "        \n",
    "    return answer"
   ]
  },
  {
   "cell_type": "markdown",
   "metadata": {},
   "source": [
    "더 간결하게 작성한 코드인데, 반복문을 굳이 돌지 않고도 dict(zip(name, yearning))을 하면 같은 인덱스끼리 딕셔너리가 작성된다고 한다. \n",
    "\n",
    "answer의 경우는 이중 반복을 하는 것은 똑같지만 리스트 컴프리헨션을 통해 코드를 더 간결하게 작성할 수 있었다.\n",
    "\n",
    "딕셔너리의 ``get()`` 메서드는 특정 키에 해당하는 값을 가져오는 메서드이다.\n",
    "``value = my_dict.get(key, default_value)``와 같이 사용할 수 있다.  \n",
    "만약 key가 딕셔너리에 존재하면 해당 값이 반환되고 존재하지 않으면 default_value가 반환된다. if문을 굳이 사용하지 않아도 된다는 의미이다.\n",
    "\n",
    "코드는 간결해졌지만 이중 반복문을 돌기 때문에 시간 복잡도는 똑같이 O(N * M)이다."
   ]
  }
 ],
 "metadata": {
  "language_info": {
   "name": "python"
  },
  "orig_nbformat": 4
 },
 "nbformat": 4,
 "nbformat_minor": 2
}
