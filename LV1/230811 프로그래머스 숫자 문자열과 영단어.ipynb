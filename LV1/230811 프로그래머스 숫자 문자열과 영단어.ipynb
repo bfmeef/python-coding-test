{
 "cells": [
  {
   "cell_type": "markdown",
   "metadata": {},
   "source": [
    "문제 출처 : https://school.programmers.co.kr/learn/courses/30/lessons/81301\n",
    "\n",
    "이 문제는 'one4seveneight'과 같은 입력이 들어오면 영단어를 숫자로 변경하여 1478로 반환하는 문제이다."
   ]
  },
  {
   "cell_type": "code",
   "execution_count": null,
   "metadata": {},
   "outputs": [],
   "source": [
    "def solution(s):\n",
    "    num = {'zero': '0', 'one': '1', 'two': '2',\n",
    "          'three': '3', 'four': '4', 'five': '5',\n",
    "          'six': '6', 'seven': '7', 'eight': '8', 'nine': '9'}\n",
    "    \n",
    "    answer = []\n",
    "    temp = []\n",
    "    for char in s:\n",
    "        if char.isalpha():\n",
    "            temp.append(char)\n",
    "            if ''.join(temp) in num:\n",
    "                answer.append(num[''.join(temp)])\n",
    "                temp = []\n",
    "        else:\n",
    "            answer.append(char)\n",
    "            \n",
    "    return int(''.join(answer))"
   ]
  },
  {
   "cell_type": "markdown",
   "metadata": {},
   "source": [
    "우선 숫자 사전을 만들었다.\n",
    "\n",
    "문자열을 순회하면서 만약 문자가 알파벳이라면 임시 변수에 문자열을 추가하고, 임시 변수 문자열이 숫자 사전에 있는지를 확인한다. 만약 있다면 숫자 사전에서 값을 가져온다. \n",
    "\n",
    "answer에는 문자열로 '1478'이 들어있을 것이고, 이를 정수형으로 변경하면 된다."
   ]
  }
 ],
 "metadata": {
  "language_info": {
   "name": "python"
  },
  "orig_nbformat": 4
 },
 "nbformat": 4,
 "nbformat_minor": 2
}
