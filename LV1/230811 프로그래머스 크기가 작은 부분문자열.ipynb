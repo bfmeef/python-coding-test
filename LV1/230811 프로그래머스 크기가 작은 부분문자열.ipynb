{
 "cells": [
  {
   "cell_type": "markdown",
   "metadata": {},
   "source": [
    "문제 출처 : https://school.programmers.co.kr/learn/courses/30/lessons/147355\n",
    "\n",
    "이 문자열은 부분문자열을 찾는 문제이므로 [슬라이딩 윈도우 기법](https://github.com/bfmeef/TIL/blob/main/Algorithm/230811%20%EC%8A%AC%EB%9D%BC%EC%9D%B4%EB%94%A9%20%EC%9C%88%EB%8F%84%EC%9A%B0%20%EC%95%8C%EA%B3%A0%EB%A6%AC%EC%A6%98.md)을 사용할 수 있다."
   ]
  },
  {
   "cell_type": "code",
   "execution_count": null,
   "metadata": {},
   "outputs": [],
   "source": [
    "def solution(t, p):\n",
    "    t_len = len(t)\n",
    "    p_len = len(p)\n",
    "    p_num = int(p)\n",
    "    \n",
    "    count = 0\n",
    "    for i in range(t_len - p_len + 1):\n",
    "        t_num = int(t[i:i+p_len])\n",
    "        if t_num <= p_num:\n",
    "            count += 1\n",
    "            \n",
    "    return count"
   ]
  },
  {
   "cell_type": "markdown",
   "metadata": {},
   "source": [
    "1. 우선 슬라이딩 윈도우는 고정된 크기의 윈도우가 필요하므로 t와 p의 길이를 구한다.\n",
    "2. 슬라이딩 윈도우는 이동 가능한 윈도우가 필요하므로 for문을 통해 전체 길이에서 p의 길을 뺀 만큼 반복문을 순회하게 한다.\n",
    "3. 이동 가능한 윈도우가 필요하므로 현재 위치와 현재 위치로부터 p의 길이만큼 떨어진 문자열을 구한다.\n",
    "4. 정수로 값을 변경한 후 p_num과 값을 비교하여 작거나 같으면 count를 증가시킨다."
   ]
  }
 ],
 "metadata": {
  "language_info": {
   "name": "python"
  },
  "orig_nbformat": 4
 },
 "nbformat": 4,
 "nbformat_minor": 2
}
