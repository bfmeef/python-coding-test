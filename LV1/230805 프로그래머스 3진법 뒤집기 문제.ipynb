{
 "cells": [
  {
   "cell_type": "markdown",
   "metadata": {},
   "source": [
    "문제 출처 : https://school.programmers.co.kr/learn/courses/30/lessons/68935\n",
    "\n",
    "이 문제는 자연수 n의 3진법을 구해 뒤집은 뒤 다시 10진법으로 만드는 문제이다."
   ]
  },
  {
   "cell_type": "code",
   "execution_count": null,
   "metadata": {},
   "outputs": [],
   "source": [
    "def solution(n):\n",
    "    # 3진법 구하기 (자동으로 뒤집어져서 들어감)\n",
    "    temp = []\n",
    "    while n >= 1:\n",
    "        temp.append(str(n % 3))\n",
    "        n //= 3\n",
    "    # 10진법 표현하기\n",
    "    answer = int(''.join(temp), 3)\n",
    "    return answer"
   ]
  },
  {
   "cell_type": "markdown",
   "metadata": {},
   "source": [
    "진법을 변환할 때는 나머지를 기준으로 구하므로 n % 3 으로 구해주었고, 구해진 나머지를 역순으로 읽어야 진법 변환이 되는데 이를 append로 한번에 해결하였다.\n",
    "\n",
    "``int(''.join(temp), 3)``을 통해 10진법으로 다시 변환해주었는데, int의 두 번째 인자로 진법 변환을 할 수 있다. 여기서는 3진법에서 10진법으로 변환하였다."
   ]
  }
 ],
 "metadata": {
  "language_info": {
   "name": "python"
  },
  "orig_nbformat": 4
 },
 "nbformat": 4,
 "nbformat_minor": 2
}
