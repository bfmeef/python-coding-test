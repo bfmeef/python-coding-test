{
 "cells": [
  {
   "cell_type": "markdown",
   "metadata": {},
   "source": [
    "문제 출처 : https://school.programmers.co.kr/learn/courses/30/lessons/68644\n",
    "\n",
    "이전 [230730 프로그래머스 삼총사 문제](https://github.com/bfmeef/python-coding-test/blob/main/230730%20%ED%94%84%EB%A1%9C%EA%B7%B8%EB%9E%98%EB%A8%B8%EC%8A%A4%20%EC%82%BC%EC%B4%9D%EC%82%AC%20%EB%AC%B8%EC%A0%9C.ipynb)에서 배웠던 combinations를 기억해서 풀이한 문제. "
   ]
  },
  {
   "cell_type": "code",
   "execution_count": null,
   "metadata": {
    "vscode": {
     "languageId": "plaintext"
    }
   },
   "outputs": [],
   "source": [
    "from itertools import combinations\n",
    "\n",
    "def solution(numbers):\n",
    "    return sorted(set(sum(c) for c in combinations(numbers, 2)))"
   ]
  },
  {
   "cell_type": "markdown",
   "metadata": {},
   "source": [
    "리스트에서 두 개의 수를 뽑은 뒤 더하고, 더해진 수들에서 중복을 제거한 뒤 오름차순으로 정렬해주었다. "
   ]
  },
  {
   "cell_type": "markdown",
   "metadata": {},
   "source": []
  }
 ],
 "metadata": {
  "language_info": {
   "name": "python"
  },
  "orig_nbformat": 4
 },
 "nbformat": 4,
 "nbformat_minor": 2
}
