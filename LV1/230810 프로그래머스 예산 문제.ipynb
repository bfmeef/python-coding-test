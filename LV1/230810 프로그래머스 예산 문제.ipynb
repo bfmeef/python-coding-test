{
 "cells": [
  {
   "cell_type": "markdown",
   "metadata": {},
   "source": [
    "문제 출처 : https://school.programmers.co.kr/learn/courses/30/lessons/12982\n",
    "\n",
    "이 문제는 그리디 알고리즘으로 해결하는 문제이다.\n",
    "\n",
    "이 문제의 목적은 **최대 몇 개**의 부서에 물품을 지원할 수 있는지 물어보는 문제이므로 주어진 배열을 정렬하고 작은 수부터 계산하도록 했다."
   ]
  },
  {
   "cell_type": "code",
   "execution_count": null,
   "metadata": {},
   "outputs": [],
   "source": [
    "def solution(d, budget):\n",
    "    # 문제의 목적: 최대 몇 개의 부서에 물품을 지원할 수 있는지\n",
    "    d.sort()\n",
    "    answer = 0\n",
    "    \n",
    "    for d_ in d:\n",
    "        if d_ <= budget:\n",
    "            budget -= d_\n",
    "            answer += 1\n",
    "            \n",
    "    return answer\n",
    "            "
   ]
  },
  {
   "cell_type": "markdown",
   "metadata": {},
   "source": [
    "그리디 알고리즘을 학부 시절에 배운 기억이 있는데 생각보다 그리 어렵지는 않은 것 같다. 무엇보다 거스름돈 거슬러주는 문제는 '그리디 알고리즘'이라는 걸 알기 전부터 해결해왔던 문제이므로 너무 부담 갖지 않고 풀 수 있도록 하는 게 중요한 것 같다."
   ]
  }
 ],
 "metadata": {
  "language_info": {
   "name": "python"
  },
  "orig_nbformat": 4
 },
 "nbformat": 4,
 "nbformat_minor": 2
}
