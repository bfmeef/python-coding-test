{
 "cells": [
  {
   "cell_type": "markdown",
   "metadata": {},
   "source": [
    "문제 출처 : https://school.programmers.co.kr/learn/courses/30/lessons/142086"
   ]
  },
  {
   "cell_type": "code",
   "execution_count": null,
   "metadata": {},
   "outputs": [],
   "source": [
    "def solution(s):\n",
    "    char_positions = {}\n",
    "    result = []\n",
    "    \n",
    "    for idx, char in enumerate(s):\n",
    "        if char in char_positions:\n",
    "            result.append(idx - char_positions[char])\n",
    "        else:\n",
    "            result.append(-1)\n",
    "        char_positions[char] = idx\n",
    "        \n",
    "    return result"
   ]
  },
  {
   "cell_type": "markdown",
   "metadata": {},
   "source": [
    "이걸 어떻게 풀어야 하는지 고민을 많이 했는데 딕셔너리를 유연하게 활용할 수 있다는 사실을 배웠다.\n",
    "\n",
    "만약 딕셔너리에 해당 문자가 있으면 현재 인덱스에서 딕셔너리의 값을 뺀 만큼을 추가하고 딕셔너리에 현재 인덱스를 추가하는 방식으로 문제를 해결할 수 있었다."
   ]
  }
 ],
 "metadata": {
  "language_info": {
   "name": "python"
  },
  "orig_nbformat": 4
 },
 "nbformat": 4,
 "nbformat_minor": 2
}
