{
 "cells": [
  {
   "cell_type": "markdown",
   "metadata": {},
   "source": [
    "문제 출처 : https://school.programmers.co.kr/learn/courses/30/lessons/12921\n",
    "\n",
    "이 문제는 ``에라토스테네스의 체`` 알고리즘으로 해결할 수 있는 문제다."
   ]
  },
  {
   "cell_type": "code",
   "execution_count": null,
   "metadata": {},
   "outputs": [],
   "source": [
    "def solution(n):\n",
    "    is_prime = [True] * (n + 1)\n",
    "    is_prime[0] = is_prime[1] = False\n",
    "    \n",
    "    # 에라토스테네스의 체 알고리즘\n",
    "    for i in range(2, int(n ** 0.5) + 1):\n",
    "        if is_prime[i]:\n",
    "            for j in range(i * i, n + 1, i):\n",
    "                is_prime[j] = False\n",
    "                \n",
    "    return sum(1 for prime in is_prime if prime)"
   ]
  },
  {
   "cell_type": "markdown",
   "metadata": {},
   "source": [
    "1부터 n 사이에 있는 소수의 개수를 반환하는 문제이므로 True를 n+1 개 만들어둔다. \n",
    "\n",
    "그리고 2부터 시작하여 루트 n까지 순회한다. 만약 현재 숫자가 True라면 현재 숫자의 제곱부터 시작하여 i씩 증가해가면서 False로 변경한다. (값이 있으면 소수가 아니므로)\n",
    "\n",
    "최종적으로 True인 값의 개수를 모두 더해 반환한다.\n",
    "\n",
    "시간복잡도는 O(n log log n)이라고 한다.\n",
    "\n",
    "다른 사람 풀이를 보니 이렇게 푼 사람도 있었다."
   ]
  },
  {
   "cell_type": "code",
   "execution_count": null,
   "metadata": {},
   "outputs": [],
   "source": [
    "def solution(n):\n",
    "    num = set(range(2, n + 1))\n",
    "\n",
    "    for i in range(2, n + 1):\n",
    "        if i in num:\n",
    "            num -= set(range(2 * i, n + 1, i))\n",
    "    return len(num)"
   ]
  },
  {
   "cell_type": "markdown",
   "metadata": {},
   "source": [
    "2부터 n까지의 집합을 만든 후 그 범위를 순회하면서, 집합에 현재 숫자가 있다면 다시 i의 2배부터 i만큼 증가시킨 집합을 뺀다.\n",
    "\n",
    "그런데 어차피 2의 집합은 한번 거칠 것이므로 2 * i에서 위 코드처럼 i * i로 변경해봤는데 잘 돌아간다. "
   ]
  },
  {
   "cell_type": "code",
   "execution_count": null,
   "metadata": {},
   "outputs": [],
   "source": [
    "def solution(n):\n",
    "    num = set(range(2, n + 1))\n",
    "\n",
    "    for i in range(2, n + 1):\n",
    "        if i in num:\n",
    "            num -= set(range(i * i, n + 1, i))\n",
    "    return len(num)"
   ]
  },
  {
   "cell_type": "markdown",
   "metadata": {},
   "source": [
    "이것도 똑같이 시간복잡도는 O(n log log n)이라고 하나 코드가 더 깔끔해 보여서 좋은 것 같다."
   ]
  }
 ],
 "metadata": {
  "language_info": {
   "name": "python"
  },
  "orig_nbformat": 4
 },
 "nbformat": 4,
 "nbformat_minor": 2
}
