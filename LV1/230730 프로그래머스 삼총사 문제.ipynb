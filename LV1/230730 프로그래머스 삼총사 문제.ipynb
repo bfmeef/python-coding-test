{
 "cells": [
  {
   "cell_type": "markdown",
   "metadata": {},
   "source": [
    "문제 출처: https://school.programmers.co.kr/learn/courses/30/lessons/131705\n",
    "\n",
    "\n",
    "처음에는 for문과 if문으로 일일이 다 검사해봐야 하나? 하고 생각했는데, 다른 사람 풀이를 보니 파이썬에 순열과 조합 모듈이 있었다. \n",
    "\n",
    "파이썬 내장 패키지인 ``itertools``에서 ``permutations(순열)``과 ``combinations(조합)`` 모듈을 import해주면 된다."
   ]
  },
  {
   "cell_type": "code",
   "execution_count": null,
   "metadata": {},
   "outputs": [],
   "source": [
    "from itertools import combinations"
   ]
  },
  {
   "cell_type": "markdown",
   "metadata": {},
   "source": [
    "사용방법은 ``combinations(리스트, 숫자 몇 개 뽑을 건지)``\n",
    "\n",
    "만약 리스트가 [1, 2, 3, 4, 5]라면 ``combinations(number, 3)``의 결과는 다음과 같다."
   ]
  },
  {
   "cell_type": "code",
   "execution_count": null,
   "metadata": {},
   "outputs": [],
   "source": [
    "[(1, 2, 3), (1, 2, 4), (1, 2, 5), (1, 3, 4), (1, 3, 5), (1, 4, 5), (2, 3, 4), (2, 3, 5), (2, 4, 5), (3, 4, 5)]"
   ]
  },
  {
   "cell_type": "markdown",
   "metadata": {},
   "source": [
    "이번 문제는 해당 조합이 더해서 0이 되는지, 된다면 몇 개나 가능한지를 알고자 하는 문제이므로 다음과 같이 풀이할 수 있다."
   ]
  },
  {
   "cell_type": "code",
   "execution_count": null,
   "metadata": {},
   "outputs": [],
   "source": [
    "from itertools import combinations\n",
    "\n",
    "def solution(number):\n",
    "    return sum(not sum(c) for c in combinations(number, 3))"
   ]
  },
  {
   "cell_type": "markdown",
   "metadata": {},
   "source": [
    "우선 combinations(number, 3)을 통하여 조합을 구하고, 반복문을 통해 리스트에서 하나의 튜플을 뽑는다. 만약 튜플 c(1, 2, 3)를 다 더한 값이 0이라면 not sum(c)에서 not 연산자가 0을 ``True``로 바꾸어준다."
   ]
  },
  {
   "cell_type": "code",
   "execution_count": null,
   "metadata": {},
   "outputs": [],
   "source": [
    "(not sum(c) for c in combinations(number, 3))"
   ]
  },
  {
   "cell_type": "markdown",
   "metadata": {},
   "source": [
    "위 코드는 ``제너레이터 컴프리헨션``이라고 한다. \n",
    "\n",
    "제너레이터는 이터레이터를 생성하는 함수를 말한다.\n",
    "\n",
    "이터레이터는 순회 가능한 객체(이를 Iterable하다고 한다.)로부터 값을 하나씩 가져올 수 있는 객체를 말한다.\n",
    "\n",
    "제너레이터는 이터레이터와 비슷하게 동작하지만, 값을 모두 메모리에 로드하지 않고 필요할 때마다 값을 생성하여 반환한다.\n",
    "\n",
    "저기서 () 괄호를 [] 괄호로 변경하면 ``리스트 컴프리헨션``이 되는데, 이는 값을 리스트에 저장하기 때문에 메모리를 더 필요로 한다. (입력 데이터가 크지 않다면 차이는 미미하다.)\n",
    "\n",
    "제너레이터 컴프리헨션과 리스트 컴프리헨션 모두 여기서는 동일한 기능을 하지만 제너레이터 컴프리헨션은 값을 저장하지 않으므로 메모리 측면에서 조금 더 효율적이다.\n",
    "\n",
    "그리고 그 결과를 sum()해주면 0일 때(제너레이터 컴프리헨션 결과가 True일 때)를 모두 더한 값을 Return해준다."
   ]
  },
  {
   "cell_type": "markdown",
   "metadata": {},
   "source": []
  }
 ],
 "metadata": {
  "language_info": {
   "name": "python"
  },
  "orig_nbformat": 4
 },
 "nbformat": 4,
 "nbformat_minor": 2
}
