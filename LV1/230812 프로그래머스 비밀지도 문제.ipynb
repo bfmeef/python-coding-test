{
 "cells": [
  {
   "cell_type": "markdown",
   "metadata": {},
   "source": [
    "문제 출처 : https://school.programmers.co.kr/learn/courses/30/lessons/17681\n",
    "\n",
    "이 문제는 십진수를 이진수로 변환한 뒤 OR 연산으로 비밀지도를 해독하는 문제이다. **비트 연산**과 **비트마스크**를 활용하여 풀 수 있다. "
   ]
  },
  {
   "cell_type": "code",
   "execution_count": null,
   "metadata": {},
   "outputs": [],
   "source": [
    "def solution(n, arr1, arr2):\n",
    "    new_arr1 = [bin(a)[2:].zfill(n) for a in arr1]\n",
    "    new_arr2 = [bin(a)[2:].zfill(n) for a in arr2]\n",
    "            \n",
    "    answer = []\n",
    "    for i in range(n):\n",
    "        temp = []\n",
    "        for j in range(n):\n",
    "            if int(new_arr1[i][j]) or int(new_arr2[i][j]):\n",
    "                temp.append('#')\n",
    "            else:\n",
    "                temp.append(' ')\n",
    "        answer.append(''.join(temp))\n",
    "        \n",
    "    return answer"
   ]
  },
  {
   "cell_type": "markdown",
   "metadata": {},
   "source": [
    "원래 \n",
    "```\n",
    "    new_arr1 = []\n",
    "    new_arr2 = []\n",
    "    for arr in [arr1, arr2]:\n",
    "        temp = []\n",
    "        for a in arr:\n",
    "            binary_num = bin(a)[2:].zfill(5)\n",
    "            temp.append(binary_num)\n",
    "        if arr is arr1:\n",
    "            new_arr1 = temp\n",
    "        else:\n",
    "            new_arr2 = temp\n",
    "```\n",
    "\n",
    "이런식으로 이중 for문을 돌렸었는데\n",
    "```\n",
    "    new_arr1 = [bin(a)[2:].zfill(n) for a in arr1]\n",
    "    new_arr2 = [bin(a)[2:].zfill(n) for a in arr2]\n",
    "```\n",
    "이렇게 리스트 컴프리헨션으로 각각 코딩하는 게 훨씬 간결하고 효율적이라는 걸 알았다.\n",
    "\n",
    "그 다음은 \n",
    "```\n",
    "if int(new_arr1[i][j]) or int(new_arr2[i][j]):\n",
    "```\n",
    "위 코드로 만약 둘 중 하나가 1이라면 #을, 둘 다 0이라면 공백을 추가하였다.\n",
    "\n",
    "``zfill`` 메서드를 통하여 이진수를 구한 뒤 문자열 왼쪽에 0을 채울 수 있다."
   ]
  }
 ],
 "metadata": {
  "language_info": {
   "name": "python"
  },
  "orig_nbformat": 4
 },
 "nbformat": 4,
 "nbformat_minor": 2
}
