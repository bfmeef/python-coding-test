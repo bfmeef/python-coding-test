{
 "cells": [
  {
   "cell_type": "markdown",
   "metadata": {},
   "source": [
    "문제 출처 : https://school.programmers.co.kr/learn/courses/30/lessons/134240\n",
    "\n",
    "이 문제는 먹는 음식의 종류와 양을 같게 만들어야 한다. 즉 0을 기준으로 문자열이 데칼코마니와 같은 형태를 가진다.\n",
    "\n",
    "이 점에서 착안하여 0 이전까지의 값을 구한 후 0을 더한 뒤 구한 값을 뒤집어 뒤에 붙여주었다."
   ]
  },
  {
   "cell_type": "code",
   "execution_count": null,
   "metadata": {},
   "outputs": [],
   "source": [
    "def solution(food):\n",
    "    array = []\n",
    "    for idx, val in enumerate(food):\n",
    "        for _ in range(val // 2):\n",
    "            array.append(idx)\n",
    "        \n",
    "    answer = array.copy()\n",
    "    answer.append(0)\n",
    "    array.reverse()\n",
    "    answer.extend(array)\n",
    "    \n",
    "    return ''.join(map(str, answer))"
   ]
  },
  {
   "cell_type": "markdown",
   "metadata": {},
   "source": [
    "칼로리가 적은 순으로 정렬된 배열 food를 순회하여 값을 2로 나누었을 때 나누어 떨어지는 값만큼을 문자열에 추가한다.\n",
    "\n",
    "그리고 그 값을 answer에 복사한 뒤 그 뒤에 0을 추가해주고, array를 뒤집어 answer에 추가한다."
   ]
  },
  {
   "cell_type": "code",
   "execution_count": null,
   "metadata": {},
   "outputs": [],
   "source": [
    "def solution(food):\n",
    "    array = []\n",
    "    for idx, val in enumerate(food):\n",
    "        for _ in range(val // 2):\n",
    "            array.append(idx)\n",
    "        \n",
    "    answer = array\n",
    "    answer.append(0)\n",
    "    array.reverse()\n",
    "    answer.extend(array)\n",
    "    \n",
    "    return ''.join(map(str, answer))"
   ]
  },
  {
   "cell_type": "markdown",
   "metadata": {},
   "source": [
    "이때 answer = array로 작성하면 Call by Object Reference에 의해 둘이 같은 객체를 가리키게 되므로 answer = array.copy()처럼 얕은 복사를 시행해줘야 한다.\n",
    "\n",
    "``extend()``는 리스트에 다른 리스트의 모든 요소를 추가하는 메서드로, 리스트를 확장(extend)하는 데 사용되며 다른 리스트의 모든 요소를 순서대로 현재 리스트에 추가한다. extend() 함수는 원래의 리스트를 변경시키며 반환 값은 없다."
   ]
  }
 ],
 "metadata": {
  "language_info": {
   "name": "python"
  },
  "orig_nbformat": 4
 },
 "nbformat": 4,
 "nbformat_minor": 2
}
