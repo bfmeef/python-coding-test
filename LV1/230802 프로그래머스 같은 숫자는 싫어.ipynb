{
 "cells": [
  {
   "cell_type": "markdown",
   "metadata": {},
   "source": [
    "문제 출처 : https://school.programmers.co.kr/learn/courses/30/lessons/12906\n",
    "\n",
    "이 문제는 **스택 문제**이다. \n",
    "\n",
    "파이썬에는 스택이 따로 없고 리스트를 사용하면 된다.  \n",
    "*(리스트에 이미 append와 pop 메소드가 있다.)*\n",
    "\n",
    "스택의 개념이 모호한 상태에서 이 문제를 봤을 때는 for문을 돌아가며 arr의 이전 값과 비교해야 하나 막막했는데, 이 문제를 스택으로 풀면 된다는 사실을 인지하고 다시 보니 해결책이 눈에 보였다.\n",
    "\n",
    "arr을 순회하며 만약 answer의 마지막 값이 현재 값과 다르다면 중복이 아니므로 answer에 값을 추가한다. 이를 위해 미리 answer에는 arr의 첫 번째 값을 넣고 arr[1:] 부터 시작하도록 했다. 이를 하지 않으면 ``Index Error``가 나니 주의하자."
   ]
  },
  {
   "cell_type": "code",
   "execution_count": null,
   "metadata": {},
   "outputs": [],
   "source": [
    "def solution(arr):\n",
    "    answer = [arr[0]]\n",
    "    \n",
    "    for a in arr[1:]:\n",
    "        if answer[-1] != a:\n",
    "            answer.append(a)\n",
    "    \n",
    "    return answer"
   ]
  }
 ],
 "metadata": {
  "language_info": {
   "name": "python"
  },
  "orig_nbformat": 4
 },
 "nbformat": 4,
 "nbformat_minor": 2
}
