{
 "cells": [
  {
   "cell_type": "markdown",
   "metadata": {},
   "source": [
    "문제 출처 : https://school.programmers.co.kr/learn/courses/30/lessons/42840\n",
    "\n",
    "이 문제는 완전탐색으로 푸는 문제이다. \n",
    "처음엔 어떻게 풀어야 할지 조금 막막했는데 완전탐색이라고 생각하니 쉽게 풀렸다."
   ]
  },
  {
   "cell_type": "code",
   "execution_count": null,
   "metadata": {},
   "outputs": [],
   "source": [
    "def solution(answers):\n",
    "    students = [\n",
    "        [1, 2, 3, 4, 5],\n",
    "        [2, 1, 2, 3, 2, 4, 2, 5],\n",
    "        [3, 3, 1, 1, 2, 2, 4, 4, 5, 5]\n",
    "    ]\n",
    "    \n",
    "    result = [0] * 3\n",
    "    \n",
    "    for idx, a in enumerate(answers):\n",
    "        for i in range(3):\n",
    "            if a == students[i][idx % len(students[i])]:\n",
    "                result[i] += 1\n",
    "                \n",
    "    return [i + 1 for i, value in enumerate(result) if value == max(result)]"
   ]
  },
  {
   "cell_type": "markdown",
   "metadata": {},
   "source": [
    "정답과 비교해주어야 하기 때문에 우선 1, 2, 3번 수포자들의 반복되는 패턴을 추가해주었다.\n",
    "\n",
    "그리고 정답을 누적해야 하므로 result를 만들어 주었다. [0, 0, 0]으로 생성해도 되지만 [0] * 3 이 좀 더 나은 코드 같아서 이렇게 작성해주었다.\n",
    "\n",
    "정답 값과 수포자들의 값을 비교해주어야 하기 때문에 `enumerate`로 인덱스와 값을 각각 가져왔고, 수포자는 총 3명이므로 반복문을 3번 순회하게 해주었다. \n",
    "\n",
    "인덱스에서 각 수포자의 길이를 나눈 나머지(범위를 지정해주어야 하므로)를 순회하며 정답과 비교해주었고 result에 누적해주었다.\n",
    "\n",
    "이 부분이 살짝 헷갈렸는데,  \n",
    "result의 `max` (가장 높은 점수를 받은 사람을 구해야 하므로) 값과 3명의 점수가 같다면 리스트에 추가해주었다."
   ]
  }
 ],
 "metadata": {
  "language_info": {
   "name": "python"
  },
  "orig_nbformat": 4
 },
 "nbformat": 4,
 "nbformat_minor": 2
}
