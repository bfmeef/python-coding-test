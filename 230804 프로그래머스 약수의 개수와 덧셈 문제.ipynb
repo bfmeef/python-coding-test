{
 "cells": [
  {
   "cell_type": "markdown",
   "metadata": {},
   "source": [
    "문제 출처 : https://school.programmers.co.kr/learn/courses/30/lessons/77884\n",
    "\n",
    "이 문제는 약수를 구하는 문제다."
   ]
  },
  {
   "cell_type": "code",
   "execution_count": null,
   "metadata": {},
   "outputs": [],
   "source": [
    "def solution(left, right):\n",
    "    answer = 0\n",
    "    for num in range(left, right + 1):\n",
    "        divisor = []\n",
    "        \n",
    "        for j in range(1, num + 1):\n",
    "            if num % j == 0:\n",
    "                divisor.append(j)\n",
    "                \n",
    "        answer = answer + num if len(divisor) % 2 == 0 else answer - num\n",
    "                    \n",
    "    return answer"
   ]
  },
  {
   "cell_type": "markdown",
   "metadata": {},
   "source": [
    "일단 이렇게 풀이해보았다.\n",
    "\n",
    "고민 \n",
    "***\n",
    "1. 파이썬에서 약수를 효율적으로 구하는 방법이 없을까? \n",
    "2. 코드가 중복된다는 느낌이 드는데 최적화할 수는 없을까?\n",
    "\n",
    "\n",
    "내가 찾은 해답\n",
    "***\n",
    "1. 약수의 특성상 더 작은 약수를 찾을 때 그에 대응되는 더 큰 약수도 찾을 수 있다. ex) (1, 8), (2, 4) => 1, 2, 4, 8  \n",
    "따라서 절반까지 찾으면 되는데, 그 절반은 1/2가 아니라 숫자 N의 제곱근이다. 제곱근 이전까지만 반복문을 순회하면 된다.  \n",
    "단, 이 방법은 약수가 짝수일 때만 가능하며 약수가 홀수일 경우 1을 추가하는 것을 잊지 말아야 한다.\n",
    "2. 우선 divisor를 리스트로 만들 필요가 없고 삼항연산자에서 코드 중복을 해결할 수 있을 것 같다. "
   ]
  },
  {
   "cell_type": "code",
   "execution_count": null,
   "metadata": {},
   "outputs": [],
   "source": [
    "def solution(left, right):\n",
    "    answer = 0\n",
    "    for num in range(left, right + 1):\n",
    "        divisor = 0\n",
    "        \n",
    "        for i in range(1, int(num ** 0.5) + 1):\n",
    "            if num % i == 0:\n",
    "                divisor += 1\n",
    "                if i != num // i:  # num의 제곱근이 아니라면\n",
    "                    divisor += 1                    \n",
    "                \n",
    "        answer = answer + (num if divisor % 2 == 0 else -num)\n",
    "                    \n",
    "    return answer"
   ]
  },
  {
   "cell_type": "markdown",
   "metadata": {},
   "source": [
    "코드가 살짝 더 길어진 것으로 보이지만 첫 번째 코드의 시간 복잡도는 ``O(N^2)``, 두 번째 코드의 시간 복잡도는 ``O(N*sqrt(N))``로 후자가 더 효율적인 코드다.\n",
    "\n",
    "다음부터는 약수를 구할 때 자신감 있게 제곱근까지만 반복하도록 하면 될 것 같다."
   ]
  }
 ],
 "metadata": {
  "language_info": {
   "name": "python"
  },
  "orig_nbformat": 4
 },
 "nbformat": 4,
 "nbformat_minor": 2
}
