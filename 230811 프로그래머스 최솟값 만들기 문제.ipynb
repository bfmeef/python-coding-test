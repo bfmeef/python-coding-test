{
 "cells": [
  {
   "cell_type": "markdown",
   "metadata": {},
   "source": [
    "문제 출처: https://school.programmers.co.kr/learn/courses/30/lessons/12941"
   ]
  },
  {
   "cell_type": "code",
   "execution_count": null,
   "metadata": {},
   "outputs": [],
   "source": [
    "def solution(A,B):\n",
    "    A.sort()\n",
    "    B.sort(reverse=True)\n",
    "    \n",
    "    answer = 0\n",
    "    for a, b in zip(A, B):\n",
    "        answer += a * b\n",
    "    return answer"
   ]
  },
  {
   "cell_type": "markdown",
   "metadata": {},
   "source": [
    "이 문제는 간단하게 A는 오름차순으로 정렬하고 B는 내림차순으로 정렬하여 작은 수와 큰 수끼리 곱해질 수 있게 만드는 문제이다."
   ]
  },
  {
   "cell_type": "code",
   "execution_count": null,
   "metadata": {},
   "outputs": [],
   "source": [
    "def solution(A,B):\n",
    "    A.sort()\n",
    "    B.sort(reverse=True)\n",
    "    return sum(a * b for a, b in zip(A, B))"
   ]
  },
  {
   "cell_type": "markdown",
   "metadata": {},
   "source": [
    "더 간단하게 작성하면 ``제너레이터 컴프리헨션``을 사용하여 A, B를 정렬한 후 바로 리턴할 수 있다."
   ]
  }
 ],
 "metadata": {
  "language_info": {
   "name": "python"
  },
  "orig_nbformat": 4
 },
 "nbformat": 4,
 "nbformat_minor": 2
}
