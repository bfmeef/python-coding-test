{
 "cells": [
  {
   "cell_type": "markdown",
   "metadata": {},
   "source": [
    "문제 출처 : https://school.programmers.co.kr/learn/courses/30/lessons/43165\n",
    "\n",
    "이 문제는 dfs로 푸는 문제다.\n",
    "\n",
    "dfs는 재귀 함수나 스택을 활용하여 풀 수 있다.\n",
    "\n",
    "이번에는 재귀 함수로 풀어보았다."
   ]
  },
  {
   "cell_type": "code",
   "execution_count": null,
   "metadata": {},
   "outputs": [],
   "source": [
    "def dfs(numbers, target, idx, current_sum):\n",
    "    if idx == len(numbers):\n",
    "        if current_sum == target:\n",
    "            return 1\n",
    "        return 0\n",
    "    \n",
    "    positive_count = dfs(numbers, target, idx + 1, current_sum + numbers[idx])\n",
    "    negative_count = dfs(numbers, target, idx + 1, current_sum - numbers[idx])\n",
    "    \n",
    "    return positive_count + negative_count\n",
    "\n",
    "def solution(numbers, target):\n",
    "    return dfs(numbers, target, 0, 0)"
   ]
  },
  {
   "cell_type": "markdown",
   "metadata": {},
   "source": [
    "dfs 함수를 만들어 배열과 타겟을 받고 현재 인덱스와 합을 매개변수로 받는다.\n",
    "\n",
    "사용할 수 있는 숫자는 배열의 숫자들이므로 인덱스가 배열의 길이와 같아진다면 조건을 검증하는데 합이 타겟과 같아진다면 경우의 수가 있다는 뜻이므로 1을 리턴하고, 없으면 0을 리턴한다. \n",
    "\n",
    "인덱스가 배열의 길이와 같지 않은 경우에는 값을 계속 누적해서 반환한다.\n",
    "\n",
    "dfs는 아직까지 좀 어려운 것 같다.  \n",
    "나중에 다시 풀어봐야 할듯..."
   ]
  }
 ],
 "metadata": {
  "language_info": {
   "name": "python"
  },
  "orig_nbformat": 4
 },
 "nbformat": 4,
 "nbformat_minor": 2
}
