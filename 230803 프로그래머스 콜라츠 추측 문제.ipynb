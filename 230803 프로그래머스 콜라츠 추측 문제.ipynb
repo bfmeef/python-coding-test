{
 "cells": [
  {
   "cell_type": "markdown",
   "metadata": {},
   "source": [
    "문제 출처 : https://school.programmers.co.kr/learn/courses/30/lessons/12943"
   ]
  },
  {
   "cell_type": "code",
   "execution_count": null,
   "metadata": {},
   "outputs": [],
   "source": [
    "def solution(num):\n",
    "    count = 0\n",
    "    \n",
    "    if num == 1:\n",
    "        return 0\n",
    "    \n",
    "    while True:\n",
    "        if num == 1:\n",
    "            break\n",
    "        if count >= 500:\n",
    "            return -1\n",
    "        \n",
    "        if num % 2 == 0:\n",
    "            num /= 2\n",
    "        else:\n",
    "            num = num * 3 + 1\n",
    "            \n",
    "        count += 1\n",
    "        \n",
    "    return count"
   ]
  },
  {
   "cell_type": "markdown",
   "metadata": {},
   "source": [
    "일단 이렇게 해서 문제는 풀었는데 뭔가 아쉬운 느낌이 든다..."
   ]
  },
  {
   "cell_type": "code",
   "execution_count": null,
   "metadata": {},
   "outputs": [],
   "source": [
    "def solution(num):\n",
    "    MAX_ITERATIONS = 500\n",
    "    \n",
    "    if num == 1:\n",
    "        return 0\n",
    "    \n",
    "    count = 0\n",
    "    while num != 1:\n",
    "        num = num / 2 if num % 2 == 0 else num * 3 + 1\n",
    "        count += 1\n",
    "        \n",
    "        if count >= MAX_ITERATIONS:\n",
    "            return -1\n",
    "            \n",
    "    return count"
   ]
  },
  {
   "cell_type": "markdown",
   "metadata": {},
   "source": [
    "챗GPT의 도움을 받아 리팩토링을 해보았는데 보기에 훨씬 깔끔해진 것 같다. \n",
    "\n",
    "이렇게 간단하고 깔끔하게 풀 수 있는데 왜 저렇게 지저분하게 풀었지? 아쉽... "
   ]
  }
 ],
 "metadata": {
  "language_info": {
   "name": "python"
  },
  "orig_nbformat": 4
 },
 "nbformat": 4,
 "nbformat_minor": 2
}
