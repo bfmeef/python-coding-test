{
 "cells": [
  {
   "cell_type": "markdown",
   "metadata": {},
   "source": [
    "문제 출처 : https://school.programmers.co.kr/learn/courses/30/lessons/86491\n",
    "\n",
    "이 문제는 ``완전 탐색 알고리즘`` 문제이다.\n",
    "\n",
    "``완전 탐색 알고리즘``은 ``가능한 모든 경우의 수를 고려하여 문제를 해결하는 알고리즘``이다. 이 알고리즘은 모든 가능성을 시도하면서 정확한 답을 찾을 수 있지만, 경우에 따라 계산량이 많아질 수 있다.\n",
    "\n",
    "완전 탐색은 ``주어진 문제의 해법이나 경우의 수가 상대적으로 작을 때 유용``하며, 컴퓨터의 계산 능력이 높아짐에 따라 ``빠른 속도로 해결 가능한 경우도 많다``.\n",
    "\n",
    "문제의 크기나 제약 조건에 따라 완전 탐색의 적용이 적절한지 판단하고, 문제를 해결하기 위한 가장 기본적인 방법 중 하나라고 할 수 있다."
   ]
  },
  {
   "cell_type": "code",
   "execution_count": null,
   "metadata": {},
   "outputs": [],
   "source": [
    "def solution(sizes):\n",
    "    array = []\n",
    "    for size in sizes:\n",
    "        w = size[0]\n",
    "        h = size[1]\n",
    "        \n",
    "        temp = [min(w, h), max(w, h)]\n",
    "        array.append(temp)\n",
    "        \n",
    "    return max(size[0] for size in array) * max(size[1] for size in array)"
   ]
  },
  {
   "cell_type": "markdown",
   "metadata": {},
   "source": [
    "명함을 돌려서 지갑에 넣을 수 있다고 하길래 ``min()``과 ``max()``를 활용하여 가로는 작은 값을, 세로는 큰 값을 넣어주었다. 그리고 가로 길이의 최대값과 세로 길이의 최대값을 각각 꺼내 곱한 값을 반환해주었다."
   ]
  }
 ],
 "metadata": {
  "language_info": {
   "name": "python"
  },
  "orig_nbformat": 4
 },
 "nbformat": 4,
 "nbformat_minor": 2
}
