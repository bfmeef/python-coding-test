{
 "cells": [
  {
   "cell_type": "markdown",
   "metadata": {},
   "source": [
    "문제 출처 : https://school.programmers.co.kr/learn/courses/30/lessons/144853\n",
    "\n",
    "BOOK 테이블에서 2021년에 출판된 '인문' 카테고리에 속하는 도서 리스트를 찾아서 도서 ID(BOOK_ID), 출판일 (PUBLISHED_DATE)을 출력하는 SQL문을 작성해주세요.\n",
    "결과는 출판일을 기준으로 오름차순 정렬해주세요.\n",
    "\n",
    "**주의사항**  \n",
    "PUBLISHED_DATE의 데이트 포맷이 예시와 동일해야 정답처리 됩니다."
   ]
  },
  {
   "cell_type": "code",
   "execution_count": null,
   "metadata": {},
   "outputs": [],
   "source": [
    "SELECT BOOK_ID, SUBSTRING(PUBLISHED_DATE, 1, 10) AS PUBLISHED_DATE FROM BOOK\n",
    "WHERE CATEGORY = '인문' AND PUBLISHED_DATE LIKE '2021%'\n",
    "ORDER BY PUBLISHED_DATE ASC;"
   ]
  },
  {
   "cell_type": "markdown",
   "metadata": {},
   "source": [
    "PUBLISHED_DATE의 데이터 포맷이 2021-10-24 00:00:00 이렇게 되어 있는데 2021-10-24로 변경해야 정답처리된다.\n",
    "\n",
    "`SUBSTRING()` 함수는 `SUBSTRING(문자열, 시작_인덱스, 추출_길이)`로 사용할 수 있다.  \n",
    "문자열의 인덱스는 0이 아니라 1부터 시작한다. \n",
    "\n",
    "2021년도를 찾는 방법은 2021로 시작하는 문자열을 검수하도록 조건을 걸어주었다."
   ]
  }
 ],
 "metadata": {
  "language_info": {
   "name": "python"
  },
  "orig_nbformat": 4
 },
 "nbformat": 4,
 "nbformat_minor": 2
}
