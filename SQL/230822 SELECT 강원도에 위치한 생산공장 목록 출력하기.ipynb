{
 "cells": [
  {
   "cell_type": "markdown",
   "metadata": {},
   "source": [
    "문제 출처 : https://school.programmers.co.kr/learn/courses/30/lessons/131112\n",
    "\n",
    "`FOOD_FACTORY` 테이블에서 강원도에 위치한 식품공장의 공장 ID, 공장 이름, 주소를 조회하는 SQL문을 작성해주세요. 이때 결과는 공장 ID를 기준으로 오름차순 정렬해주세요."
   ]
  },
  {
   "cell_type": "code",
   "execution_count": null,
   "metadata": {},
   "outputs": [],
   "source": [
    "SELECT FACTORY_ID, FACTORY_NAME, ADDRESS FROM FOOD_FACTORY\n",
    "WHERE ADDRESS LIKE '강원도%'\n",
    "ORDER BY FACTORY_ID ASC;"
   ]
  },
  {
   "cell_type": "markdown",
   "metadata": {},
   "source": [
    "SQL을 하도 안 했더니 기억이 가물가물해서 오늘부터 다시 재활 시작하는 걸로... 이것도 문제 제대로 안 읽었더니 안 돌아갔다 문제를 열심히 읽자!!"
   ]
  }
 ],
 "metadata": {
  "language_info": {
   "name": "python"
  },
  "orig_nbformat": 4
 },
 "nbformat": 4,
 "nbformat_minor": 2
}
