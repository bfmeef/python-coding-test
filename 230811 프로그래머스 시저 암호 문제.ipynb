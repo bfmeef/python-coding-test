{
 "cells": [
  {
   "cell_type": "markdown",
   "metadata": {},
   "source": [
    "문제 출처 : https://school.programmers.co.kr/learn/courses/30/lessons/12926"
   ]
  },
  {
   "cell_type": "code",
   "execution_count": null,
   "metadata": {},
   "outputs": [],
   "source": [
    "def solution(s, n):\n",
    "    answer = []\n",
    "    for char in s:\n",
    "        if char.isalpha():\n",
    "            base = ord('A') if char.isupper() else ord('a')\n",
    "            new_char = chr((ord(char) - base + n) % 26 + base)\n",
    "        else:\n",
    "            new_char = char\n",
    "        answer.append(new_char)\n",
    "        \n",
    "    return ''.join(answer)"
   ]
  },
  {
   "cell_type": "markdown",
   "metadata": {},
   "source": [
    "이 문제는 시저 암호 알고리즘을 통해 푸는 문제인데, 특수 기호에는 해당하지 않고 알파벳인 경우에만 변경된다.\n",
    "\n",
    "(ord(char) - base + n) % 26 + base 를 통해 A/a 부터 Z/z까지를 순환하도록 한다. base는 대문자라면 A를 기준으로 소문자라면 a를 기준으로 아스키 코드 값을 구한다."
   ]
  }
 ],
 "metadata": {
  "language_info": {
   "name": "python"
  },
  "orig_nbformat": 4
 },
 "nbformat": 4,
 "nbformat_minor": 2
}
