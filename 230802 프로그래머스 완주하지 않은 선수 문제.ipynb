{
 "cells": [
  {
   "cell_type": "markdown",
   "metadata": {},
   "source": [
    "문제 출처 : https://school.programmers.co.kr/learn/courses/30/lessons/42576\n",
    "\n",
    "이 문제는 프로그래머스 고득점 Kit에 있는 해시 문제이다.\n",
    "\n",
    "해시가 뭔지 잘 모르겠어서 찾아보니 파이썬 딕셔너리와 비슷하다고 해서 딕셔너리로 풀어보았다.\n",
    "\n",
    "### 딕셔너리 풀이\n",
    "***"
   ]
  },
  {
   "cell_type": "code",
   "execution_count": null,
   "metadata": {
    "vscode": {
     "languageId": "plaintext"
    }
   },
   "outputs": [],
   "source": [
    "def solution(participant, completion):\n",
    "    members = {}\n",
    "    for name in participant:        \n",
    "        if name in members:\n",
    "            members[name] += 1\n",
    "            continue\n",
    "        members[name] = 1\n",
    "    \n",
    "    for name in completion:\n",
    "        members[name] -= 1\n",
    "    \n",
    "    for key, value in members.items():\n",
    "        if value != 0:\n",
    "            return key"
   ]
  },
  {
   "cell_type": "markdown",
   "metadata": {},
   "source": [
    "participant를 순회하여 이름이 중복으로 있을 경우 1을 추가해준다. 그럼 이름이 나온 횟수만큼 members의 숫자가 증가한다.\n",
    "\n",
    "completion을 순회하여 이름이 있다면 1을 빼준다. 완주한 사람은 0, 그렇지 못한 사람은 1 이상의 값을 가진다.\n",
    "\n",
    "members의 key와 value를 꺼내 value 값이 0이 아니라면 key 값을 반환한다."
   ]
  },
  {
   "cell_type": "markdown",
   "metadata": {},
   "source": [
    "### Counter 풀이\n",
    "***\n",
    "\n",
    "다른 사람 풀이를 더 찾아보니 Python 내장 모듈 collections의 Counter를 사용하는 방법이 있었다.\n",
    "\n",
    "- Counter 클래스는 요소의 개수를 셀 때 유용하게 사용된다. \n",
    "- Counter 클래스는 기본적으로 딕셔너리를 확장한 형태이기 때문에 ``keys()``, ``values()``, ``items()`` 등의 메서드를 사용하여 요소에 접근할 수 있다.\n",
    "- 뺄셈과 덧셈을 수행하여 요소들의 개수를 쉽게 계산할 수 있다. 두 개의 Counter 객체를 뺄셈하면 같은 Key를 가진 요소의 개수를 뺄 수 있다.\n",
    "- 0 이상의 정수 값을 가진다. (개수는 0개부터이지 -1, -2로 세지 않으므로)"
   ]
  },
  {
   "cell_type": "code",
   "execution_count": null,
   "metadata": {
    "vscode": {
     "languageId": "plaintext"
    }
   },
   "outputs": [],
   "source": [
    "from collections import Counter\n",
    "\n",
    "def solution(participant, completion):\n",
    "    p_counter = Counter(participant)\n",
    "    c_counter = Counter(completion)\n",
    "    \n",
    "    answer_counter = p_counter - c_counter\n",
    "    return list(answer_counter.keys())[0]"
   ]
  },
  {
   "cell_type": "markdown",
   "metadata": {},
   "source": [
    "Counter를 쓰면 딕셔너리로 순회할 때보다 코드가 훨씬 간단해진다.\n",
    "\n",
    "우선 Counter 객체를 각각 구한 뒤, ``p_counter``에서 ``c_counter``를 빼서 차집합을 구한다.\n",
    "\n",
    "answer_counter 값만 리턴하면 ``{\"leo\":1}, {\"vinko\":1}, {\"mislav\":1}``와 같이 Key와 Value 둘 다 출력하게 되는데, ``list(answer_counter.keys())[0]``로 작성해주면 원하는 값을 얻을 수 있다.\n",
    "\n",
    "answer_counter.keys()로만 작성하면 ``Object of type dict_keys is not JSON serializable`` 에러가 뜨는데, 이는 JSON 직렬화 시 dict_keys 객체를 직렬화할 수 없기 때문에 발생한다. 따라서 리스트로 변환한 후 직렬화하는 과정이 필요하다."
   ]
  }
 ],
 "metadata": {
  "language_info": {
   "name": "python"
  },
  "orig_nbformat": 4
 },
 "nbformat": 4,
 "nbformat_minor": 2
}
