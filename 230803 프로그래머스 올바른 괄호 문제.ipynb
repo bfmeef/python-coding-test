{
 "cells": [
  {
   "cell_type": "markdown",
   "metadata": {},
   "source": [
    "문제 출처 : https://school.programmers.co.kr/learn/courses/30/lessons/12909\n",
    "\n",
    "이 문제는 스택을 사용하여 괄호가 제대로 닫히는지를 확인하는 문제이다.  \n",
    "파이썬에서는 리스트를 사용하여 스택 문제를 해결할 수 있다."
   ]
  },
  {
   "cell_type": "code",
   "execution_count": null,
   "metadata": {},
   "outputs": [],
   "source": [
    "def solution(s):\n",
    "    stack = []\n",
    "    \n",
    "    for char in s:\n",
    "        if char == '(':\n",
    "            stack.append(char)\n",
    "        else:\n",
    "            if not stack:\n",
    "                return False\n",
    "            stack.pop()\n",
    "            \n",
    "    return len(stack) == 0"
   ]
  },
  {
   "cell_type": "markdown",
   "metadata": {},
   "source": [
    "만약 여는 괄호라면 스택에 추가하고 닫는 괄호라면 스택에서 제외(pop)한다.  \n",
    "이때 stack이 비어 있다면 괄호의 쌍이 맞지 않다는 의미이므로 False를 반환한다.\n",
    "\n",
    "stack이 비어 있는지 아는 방법은 ``if not stack``이라는 문법을 통해 알 수 있다. stack이 비어 있다면 True를, 비어 있지 않다면 False를 반환한다.\n",
    "\n",
    "비어 있지 않다면 False이므로 if문을 수행하지 않고 ``stack.pop()``을 실행한다. \n",
    "\n",
    "for문을 탈출하면 stack의 길이가 0이 맞는지 (모든 괄호가 쌍이 맞았는지)를 검수한 후 반환한다."
   ]
  },
  {
   "cell_type": "markdown",
   "metadata": {},
   "source": []
  }
 ],
 "metadata": {
  "language_info": {
   "name": "python"
  },
  "orig_nbformat": 4
 },
 "nbformat": 4,
 "nbformat_minor": 2
}
